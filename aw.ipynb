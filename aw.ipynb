{
  "nbformat": 4,
  "nbformat_minor": 0,
  "metadata": {
    "colab": {
      "provenance": [],
      "toc_visible": true,
      "authorship_tag": "ABX9TyPrJiTOfe7eMUzGzS+mFRoh",
      "include_colab_link": true
    },
    "kernelspec": {
      "name": "python3",
      "display_name": "Python 3"
    },
    "language_info": {
      "name": "python"
    }
  },
  "cells": [
    {
      "cell_type": "markdown",
      "metadata": {
        "id": "view-in-github",
        "colab_type": "text"
      },
      "source": [
        "<a href=\"https://colab.research.google.com/github/peacefish/1earn/blob/master/aw.ipynb\" target=\"_parent\"><img src=\"https://colab.research.google.com/assets/colab-badge.svg\" alt=\"Open In Colab\"/></a>"
      ]
    },
    {
      "cell_type": "code",
      "execution_count": null,
      "metadata": {
        "colab": {
          "base_uri": "https://localhost:8080/"
        },
        "id": "jIZZbI1qF41E",
        "outputId": "34c6cf15-7461-442e-df1c-67c4a4f6ff2e"
      },
      "outputs": [
        {
          "output_type": "stream",
          "name": "stdout",
          "text": [
            "Looking in indexes: https://pypi.org/simple, https://us-python.pkg.dev/colab-wheels/public/simple/\n",
            "Requirement already satisfied: urllib3 in /usr/local/lib/python3.8/dist-packages (1.24.3)\n",
            "Requirement already satisfied: BeautifulSoup4 in /usr/local/lib/python3.8/dist-packages (4.6.3)\n"
          ]
        }
      ],
      "source": [
        "!pip install urllib3 BeautifulSoup4"
      ]
    },
    {
      "cell_type": "code",
      "source": [
        "import urllib3\n",
        "import requests\n",
        "import re\n",
        "from bs4 import BeautifulSoup\n",
        "def main():\n",
        "    url = \"https://agit.ai/213321sad/youtube-aweikeji/commits/branch/master\"\n",
        "    result = download_content(url)\n",
        "    doc = BeautifulSoup(result,'html.parser')\n",
        "    newurl = parse(doc)\n",
        "    print(newurl)\n",
        "    # file = open(\"./sub/newclash.yaml\", \"w+\",encoding='utf-8')\n",
        "    # file.write(download_content(newurl))\n",
        "    # file.close()\n",
        "\n",
        "def parse(doc):\n",
        "    links = doc.find_all(\"span\", class_=\"commit-summary\")\n",
        "    for link in links:\n",
        "      str=link.get(\"title\")\n",
        "      _url=re.findall(r\"(?:.*) '(.+?)'\",str)\n",
        "      matchObj = re.match( r'.*cl.*', _url[0], re.M|re.I)\n",
        "      if matchObj:\n",
        "        return \"https://agit.ai/213321sad/youtube-aweikeji/raw/branch/master/\"+_url[0].replace('v2','cl')\n",
        "\n",
        "def download_content(url):\n",
        "    \"\"\"\n",
        "    第一个函数，用来下载网页，返回网页内容\n",
        "    参数 url 代表所要下载的网页网址。\n",
        "    整体代码和之前类似\n",
        "    \"\"\"\n",
        "    response = requests.get(url).text\n",
        "    #print(response)\n",
        "    return response\n",
        "\n",
        "if __name__ == '__main__':\n",
        "    main()"
      ],
      "metadata": {
        "colab": {
          "base_uri": "https://localhost:8080/"
        },
        "id": "ZlawBgOBGO2j",
        "outputId": "fa0c77a1-eaf6-4410-e6ef-079d9a291bcd"
      },
      "execution_count": null,
      "outputs": [
        {
          "output_type": "stream",
          "name": "stdout",
          "text": [
            "https://agit.ai/213321sad/youtube-aweikeji/raw/branch/master/1/1.2cl\n"
          ]
        }
      ]
    }
  ]
}